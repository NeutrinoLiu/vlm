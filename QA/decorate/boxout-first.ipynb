{
 "cells": [
  {
   "cell_type": "code",
   "execution_count": 4,
   "metadata": {},
   "outputs": [
    {
     "name": "stderr",
     "output_type": "stream",
     "text": [
      "  0%|          | 3/3200 [00:00<01:56, 27.44it/s]"
     ]
    },
    {
     "name": "stderr",
     "output_type": "stream",
     "text": [
      "100%|██████████| 3200/3200 [01:50<00:00, 28.89it/s]\n"
     ]
    },
    {
     "data": {
      "text/plain": [
       "0"
      ]
     },
     "execution_count": 4,
     "metadata": {},
     "output_type": "execute_result"
    }
   ],
   "source": [
    "\"\"\"\n",
    "FOR GRID INDEXING TASK ONLY\n",
    "\"\"\"\n",
    "\n",
    "\n",
    "import json\n",
    "import cv2\n",
    "import numpy as np\n",
    "import os\n",
    "from tqdm import tqdm\n",
    "\n",
    "with open(\"/mnt/bn/nlhei-nas/liubangya/proj/vlm/QA/grid_cfg_scannetpp.json\", \"r\") as f:\n",
    "    cfg = json.load(f)\n",
    "    H = cfg[\"H\"]\n",
    "    W = cfg[\"W\"]\n",
    "    patchsize_H = cfg[\"patchsize_H\"]\n",
    "    patchsize_W = cfg[\"patchsize_W\"]\n",
    "# H = 900\n",
    "# W = 1600\n",
    "# patchsize_H = 100\n",
    "# patchsize_W = 100\n",
    "\n",
    "before_mask = \"/mnt/bn/nlhei-nas/liubangya/proj/vlm/workspace/image_hint_16x24_2/pairs/QA_pairs_qwen.train.json\"\n",
    "\n",
    "img_dump = before_mask.replace(\".json\", \"_masked\")\n",
    "if os.path.exists(img_dump):\n",
    "    # remove the dir\n",
    "    os.system(f\"rm -rf {img_dump}\")\n",
    "os.makedirs(img_dump, exist_ok=True)\n",
    "\n",
    "with open(before_mask, \"r\") as f:\n",
    "    qas = json.load(f)\n",
    "\n",
    "def coloring(rgb, channel, alpha=0.1):\n",
    "    if channel == 2:\n",
    "        new_rgb = rgb * alpha + 255 * (1 - alpha)\n",
    "        # uint8-fy\n",
    "        return new_rgb.astype(np.uint8)\n",
    "    else:\n",
    "        new_rgb = rgb * alpha\n",
    "        # uint8-fy\n",
    "        return new_rgb.astype(np.uint8)\n",
    "\n",
    "\n",
    "new_qas = []\n",
    "for qa in tqdm(qas):\n",
    "    img_name = qa[\"image\"][0]\n",
    "    post_fix = img_name.split(\".\")[-1]\n",
    "    new_img_name = os.path.join(img_dump, f\"{qa['id']}.{post_fix}\")\n",
    "    gt = qa[\"conversations\"][-1][\"value\"]\n",
    "    gt = gt.replace(\"```json\", \"\").replace(\"```\", \"\")\n",
    "    # gt = json.loads(gt)\n",
    "    # print(f\"gt is {gt}\")\n",
    "    first_rol_col = gt.split(\",\")[0]\n",
    "    row = int(first_rol_col.split(\" \")[1])\n",
    "    col = int(first_rol_col.split(\" \")[2])\n",
    "    img = cv2.imread(img_name)\n",
    "    img = cv2.resize(img, (W, H))\n",
    "    # coloring the patch into red\n",
    "    \n",
    "    # colorint the whole block\n",
    "    # img[row * patchsize_H : (row+1) * patchsize_H, col * patchsize_W : (col+1) * patchsize_W, 0] = \\\n",
    "    #     coloring(img[row * patchsize_H : (row+1) * patchsize_H, col * patchsize_W : (col+1) * patchsize_W, 0], 0)\n",
    "    # img[row * patchsize_H : (row+1) * patchsize_H, col * patchsize_W : (col+1) * patchsize_W, 1] = \\\n",
    "    #     coloring(img[row * patchsize_H : (row+1) * patchsize_H, col * patchsize_W : (col+1) * patchsize_W, 1], 1)\n",
    "    # img[row * patchsize_H : (row+1) * patchsize_H, col * patchsize_W : (col+1) * patchsize_W, 2] = \\\n",
    "    #     coloring(img[row * patchsize_H : (row+1) * patchsize_H, col * patchsize_W : (col+1) * patchsize_W, 2], 2)\n",
    "\n",
    "    boundary_width = 3\n",
    "    # channel 0\n",
    "    img[row * patchsize_H : row * patchsize_H + boundary_width, col * patchsize_W : (col+1) * patchsize_W, 0] = \\\n",
    "        coloring(img[row * patchsize_H : row * patchsize_H + boundary_width, col * patchsize_W : (col+1) * patchsize_W, 0], 0)\n",
    "    img[(row+1) * patchsize_H - boundary_width: (row+1) * patchsize_H, col * patchsize_W : (col+1) * patchsize_W, 0] = \\\n",
    "        coloring(img[(row+1) * patchsize_H - boundary_width: (row+1) * patchsize_H, col * patchsize_W : (col+1) * patchsize_W, 0], 0)\n",
    "    img[row * patchsize_H : (row+1) * patchsize_H, col * patchsize_W : col * patchsize_W + boundary_width, 0] = \\\n",
    "        coloring(img[row * patchsize_H : (row+1) * patchsize_H, col * patchsize_W : col * patchsize_W + boundary_width, 0], 0)\n",
    "    img[row * patchsize_H : (row+1) * patchsize_H, (col+1) * patchsize_W - boundary_width : (col+1) * patchsize_W, 0] = \\\n",
    "        coloring(img[row * patchsize_H : (row+1) * patchsize_H, (col+1) * patchsize_W - boundary_width : (col+1) * patchsize_W, 0], 0)\n",
    "    # channel 1\n",
    "    img[row * patchsize_H : row * patchsize_H + boundary_width, col * patchsize_W : (col+1) * patchsize_W, 1] = \\\n",
    "        coloring(img[row * patchsize_H : row * patchsize_H + boundary_width, col * patchsize_W : (col+1) * patchsize_W, 1], 1)\n",
    "    img[(row+1) * patchsize_H - boundary_width: (row+1) * patchsize_H, col * patchsize_W : (col+1) * patchsize_W, 1] = \\\n",
    "        coloring(img[(row+1) * patchsize_H - boundary_width: (row+1) * patchsize_H, col * patchsize_W : (col+1) * patchsize_W, 1], 1)\n",
    "    img[row * patchsize_H : (row+1) * patchsize_H, col * patchsize_W : col * patchsize_W + boundary_width, 1] = \\\n",
    "        coloring(img[row * patchsize_H : (row+1) * patchsize_H, col * patchsize_W : col * patchsize_W + boundary_width, 1], 1)\n",
    "    img[row * patchsize_H : (row+1) * patchsize_H, (col+1) * patchsize_W - boundary_width : (col+1) * patchsize_W, 1] = \\\n",
    "        coloring(img[row * patchsize_H : (row+1) * patchsize_H, (col+1) * patchsize_W - boundary_width : (col+1) * patchsize_W, 1], 1)\n",
    "    # channel 2\n",
    "    img[row * patchsize_H : row * patchsize_H + boundary_width, col * patchsize_W : (col+1) * patchsize_W, 2] = \\\n",
    "        coloring(img[row * patchsize_H : row * patchsize_H + boundary_width, col * patchsize_W : (col+1) * patchsize_W, 2], 2)\n",
    "    img[(row+1) * patchsize_H - boundary_width: (row+1) * patchsize_H, col * patchsize_W : (col+1) * patchsize_W, 2] = \\\n",
    "        coloring(img[(row+1) * patchsize_H - boundary_width: (row+1) * patchsize_H, col * patchsize_W : (col+1) * patchsize_W, 2], 2)\n",
    "    img[row * patchsize_H : (row+1) * patchsize_H, col * patchsize_W : col * patchsize_W + boundary_width, 2] = \\\n",
    "        coloring(img[row * patchsize_H : (row+1) * patchsize_H, col * patchsize_W : col * patchsize_W + boundary_width, 2], 2)\n",
    "    img[row * patchsize_H : (row+1) * patchsize_H, (col+1) * patchsize_W - boundary_width : (col+1) * patchsize_W, 2] = \\\n",
    "        coloring(img[row * patchsize_H : (row+1) * patchsize_H, (col+1) * patchsize_W - boundary_width : (col+1) * patchsize_W, 2], 2)\n",
    "\n",
    "    cv2.imwrite(new_img_name, img)\n",
    "    new_qa = qa.copy()\n",
    "    new_qa[\"image\"] = [new_img_name] + qa[\"image\"][1:]\n",
    "    new_qas.append(new_qa)\n",
    "\n",
    "after_mask = before_mask.replace(\".json\", \".masked.json\")\n",
    "with open(after_mask, \"w\") as f:\n",
    "    json.dump(new_qas, f, indent=2)\n",
    "import os\n",
    "os.system(f\"mv {before_mask} {before_mask.replace('.json', '.bk.json')}\")\n",
    "os.system(f\"mv {after_mask} {before_mask}\")\n",
    "\n",
    "    "
   ]
  },
  {
   "cell_type": "code",
   "execution_count": null,
   "metadata": {},
   "outputs": [],
   "source": []
  }
 ],
 "metadata": {
  "fileId": "5764f865-40e5-4579-b13b-0f8b9b2d6c1b",
  "filePath": "/mnt/bn/nlhei-nas/liubangya/proj/vlm-found3d/vlm/QA/maskout.ipynb",
  "kernelspec": {
   "display_name": "base",
   "language": "python",
   "name": "python3"
  },
  "language_info": {
   "codemirror_mode": {
    "name": "ipython",
    "version": 3
   },
   "file_extension": ".py",
   "mimetype": "text/x-python",
   "name": "python",
   "nbconvert_exporter": "python",
   "pygments_lexer": "ipython3",
   "version": "3.13.2"
  }
 },
 "nbformat": 4,
 "nbformat_minor": 2
}
