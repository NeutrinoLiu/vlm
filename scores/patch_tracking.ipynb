{
 "cells": [
  {
   "cell_type": "code",
   "execution_count": 1,
   "id": "cc00ecfc",
   "metadata": {},
   "outputs": [],
   "source": [
    "import glob\n",
    "dirs = glob.glob(\"/mnt/bn/nlhei-nas/liubangya/proj/vlm/workspace/image_*\")\n",
    "import numpy as np\n",
    "import json\n",
    "\n",
    "def dictify(s):\n",
    "    s = s.split(\", \")\n",
    "    ret_dict = {}\n",
    "    for ss in s:\n",
    "        triplet = ss.split(' ')\n",
    "        if len(triplet) != 3:\n",
    "            return None\n",
    "        try:\n",
    "            triplet = [int(triplet[0]), int(triplet[1]), float(triplet[2])]\n",
    "        except:\n",
    "            return None\n",
    "        ret_dict[triplet[0]] = triplet[1:]\n",
    "    return ret_dict\n",
    "\n",
    "\n",
    "MAX_ERROR_PER_FRAME = 5\n",
    "\n",
    "def eval(ans_path):\n",
    "    with open(ans_path, \"r\") as f:\n",
    "        lines = f.readlines()\n",
    "    total_error = 0\n",
    "    per_frame_stat = {}\n",
    "    for l in lines:\n",
    "        data = json.loads(l)\n",
    "        gt = data[\"gt_ans\"]\n",
    "        pred = data[\"ans\"]\n",
    "        gt = dictify(gt)\n",
    "        pred = dictify(pred)\n",
    "\n",
    "        error_per_ans = 0\n",
    "        if pred is None:\n",
    "            error_per_ans = 1\n",
    "            total_error += error_per_ans\n",
    "            continue\n",
    "\n",
    "        for k in gt.keys():\n",
    "            if k not in pred:\n",
    "                error_per_ans += 1\n",
    "                per_frame_stat.setdefault(k, []).append(1)\n",
    "            else:\n",
    "                dist = (pred[k][0] - gt[k][0])**2 + (pred[k][1] - gt[k][1])**2\n",
    "                dist = min(dist**0.5, MAX_ERROR_PER_FRAME)\n",
    "                error_per_ans += dist / MAX_ERROR_PER_FRAME\n",
    "                per_frame_stat.setdefault(k, []).append(dist / MAX_ERROR_PER_FRAME)\n",
    "        \n",
    "        error_per_ans /= len(gt)\n",
    "        total_error += error_per_ans\n",
    "    \n",
    "    per_frame_stat = {k: float(np.mean(v)) * MAX_ERROR_PER_FRAME for k, v in per_frame_stat.items()}\n",
    "    return total_error, per_frame_stat\n",
    "\n",
    "\n"
   ]
  },
  {
   "cell_type": "code",
   "execution_count": 2,
   "id": "614fff06",
   "metadata": {},
   "outputs": [
    {
     "name": "stdout",
     "output_type": "stream",
     "text": [
      "\n",
      "        image_scannetpp_new_16x24_2 ans_base >>>\n",
      "        1434.708449300955\n",
      "        {0: 0.08837890625, 1: 4.710002193852343}\n",
      "        \n"
     ]
    },
    {
     "name": "stdout",
     "output_type": "stream",
     "text": [
      "\n",
      "        image_scannetpp_new_16x24_2 ans_lora >>>\n",
      "        464.9157493456624\n",
      "        {0: 0.0, 1: 1.8596629973826468}\n",
      "        \n",
      "\n",
      "        image_scannetpp_new_16x24_5 ans_lora >>>\n",
      "        619.1838515055274\n",
      "        {0: 0.0, 1: 1.2939205670996072, 2: 1.6532835532312755, 3: 1.9244553388833316, 4: 2.077198045199322}\n",
      "        \n"
     ]
    }
   ],
   "source": [
    "import glob\n",
    "import os\n",
    "\n",
    "for d in dirs:\n",
    "    ans = glob.glob(\n",
    "        os.path.join(d, \"results/*.json\")\n",
    "    )\n",
    "    for a in ans:\n",
    "        exp_name = os.path.basename(d)\n",
    "        setup_name = os.path.basename(a).replace(\".json\", \"\")\n",
    "        score, score_per_frame = eval(a)\n",
    "        print(f\"\"\"\n",
    "        {exp_name} {setup_name} >>>\n",
    "        {score}\n",
    "        {score_per_frame}\n",
    "        \"\"\")"
   ]
  }
 ],
 "metadata": {
  "fileId": "aeac7a13-2c38-4b53-a0e1-e79ec86efbd5",
  "filePath": "/mnt/bn/nlhei-nas/liubangya/proj/vlm/scores/patch_tracking.ipynb",
  "kernelspec": {
   "display_name": "base",
   "language": "python",
   "name": "python3"
  },
  "language_info": {
   "codemirror_mode": {
    "name": "ipython",
    "version": 3
   },
   "file_extension": ".py",
   "mimetype": "text/x-python",
   "name": "python",
   "nbconvert_exporter": "python",
   "pygments_lexer": "ipython3",
   "version": "3.11.9"
  }
 },
 "nbformat": 4,
 "nbformat_minor": 5
}
