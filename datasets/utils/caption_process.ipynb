{
 "cells": [
  {
   "cell_type": "code",
   "execution_count": 1,
   "id": "d7b54612",
   "metadata": {},
   "outputs": [],
   "source": [
    "raw = \"captions.yaml\"\n"
   ]
  },
  {
   "cell_type": "code",
   "execution_count": 2,
   "id": "3dbff6f7",
   "metadata": {},
   "outputs": [
    {
     "name": "stdout",
     "output_type": "stream",
     "text": [
      "Processed YAML saved as output.yaml (no line wrapping)\n"
     ]
    }
   ],
   "source": [
    "import yaml\n",
    "\n",
    "def trim_leaf_key(key):\n",
    "    \"\"\"Remove the tail after the last underscore in the key.\"\"\"\n",
    "    if '_' in key:\n",
    "        return key.rsplit('_', 1)[0]\n",
    "    return key\n",
    "\n",
    "def process_dict(d):\n",
    "    \"\"\"Recursively process dict to trim leaf keys.\"\"\"\n",
    "    new_dict = {}\n",
    "    for k, v in d.items():\n",
    "        if isinstance(v, dict):\n",
    "            new_dict[k] = process_dict(v)\n",
    "        else:\n",
    "            new_k = trim_leaf_key(k)\n",
    "            new_dict[new_k] = v\n",
    "    return new_dict\n",
    "\n",
    "# Load YAML\n",
    "with open(raw, 'r') as f:\n",
    "    data = yaml.safe_load(f)\n",
    "\n",
    "# Process\n",
    "processed = process_dict(data)\n",
    "\n",
    "# Save YAML with no line wrapping\n",
    "with open('captions_all.yaml', 'w') as f:\n",
    "    yaml.dump(\n",
    "        processed,\n",
    "        f,\n",
    "        allow_unicode=True,\n",
    "        sort_keys=False,\n",
    "        width=100000  # Effectively disables wrapping\n",
    "    )\n",
    "\n",
    "print(\"Processed YAML saved as output.yaml (no line wrapping)\")\n"
   ]
  }
 ],
 "metadata": {
  "kernelspec": {
   "display_name": "Python 3",
   "language": "python",
   "name": "python3"
  },
  "language_info": {
   "codemirror_mode": {
    "name": "ipython",
    "version": 3
   },
   "file_extension": ".py",
   "mimetype": "text/x-python",
   "name": "python",
   "nbconvert_exporter": "python",
   "pygments_lexer": "ipython3",
   "version": "3.11.2"
  }
 },
 "nbformat": 4,
 "nbformat_minor": 5
}
