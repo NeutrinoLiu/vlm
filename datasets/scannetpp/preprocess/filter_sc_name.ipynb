{
 "cells": [
  {
   "cell_type": "code",
   "execution_count": 2,
   "metadata": {},
   "outputs": [
    {
     "name": "stderr",
     "output_type": "stream",
     "text": [
      "  0%|          | 0/1159 [00:00<?, ?it/s]"
     ]
    },
    {
     "name": "stderr",
     "output_type": "stream",
     "text": [
      "100%|██████████| 1159/1159 [14:43<00:00,  1.31it/s]"
     ]
    },
    {
     "name": "stdout",
     "output_type": "stream",
     "text": [
      "906\n"
     ]
    },
    {
     "name": "stderr",
     "output_type": "stream",
     "text": [
      "\n"
     ]
    }
   ],
   "source": [
    "import glob\n",
    "import os\n",
    "import tqdm\n",
    "data_root = \"/mnt/bn/nlhei-nas/liubangya/proj/vlm/datasets/scannetpp/scannetpp-data/data/\"\n",
    "\n",
    "def valid_scene(sc_path):\n",
    "    dslr_path = os.path.join(sc_path, \"dslr\")\n",
    "    scan_path = os.path.join(sc_path, \"scans\")\n",
    "    anno_path = os.path.join(sc_path, 'scans', 'segments_anno.json')\n",
    "    return os.path.exists(anno_path)\n",
    "\n",
    "scenes = glob.glob(os.path.join(data_root, \"*\"))\n",
    "valids = []\n",
    "for sc in tqdm.tqdm(scenes):\n",
    "    if valid_scene(sc):\n",
    "        valids.append(os.path.basename(sc))\n",
    "    # else:\n",
    "    #     os.system(f\"rm -rf {sc}\")\n",
    "print(len(valids))\n",
    "with open(\"sc_name_all_valid.txt\", \"w\") as f:\n",
    "    f.writelines(\"\\n\".join(valids))"
   ]
  },
  {
   "cell_type": "code",
   "execution_count": null,
   "metadata": {},
   "outputs": [],
   "source": []
  }
 ],
 "metadata": {
  "fileId": "2bf26a19-f0d8-4975-a2f7-e21bd22f8173",
  "filePath": "/mnt/bn/nlhei-nas/liubangya/proj/vlm/datasets/scannetpp/preprocess/filter_sc_name.ipynb",
  "kernelspec": {
   "display_name": "vlm",
   "language": "python",
   "name": "python3"
  },
  "language_info": {
   "codemirror_mode": {
    "name": "ipython",
    "version": 3
   },
   "file_extension": ".py",
   "mimetype": "text/x-python",
   "name": "python",
   "nbconvert_exporter": "python",
   "pygments_lexer": "ipython3",
   "version": "3.11.2"
  }
 },
 "nbformat": 4,
 "nbformat_minor": 2
}
